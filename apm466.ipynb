{
 "cells": [
  {
   "cell_type": "code",
   "execution_count": 1,
   "metadata": {},
   "outputs": [],
   "source": [
    "import numpy as np\n",
    "import scipy.optimize\n",
    "import pandas as pd\n",
    "from datetime import datetime\n",
    "import matplotlib.pyplot as plt\n",
    "from dateutil.relativedelta import relativedelta"
   ]
  },
  {
   "cell_type": "code",
   "execution_count": 2,
   "metadata": {},
   "outputs": [
    {
     "data": {
      "text/html": [
       "<div>\n",
       "<style scoped>\n",
       "    .dataframe tbody tr th:only-of-type {\n",
       "        vertical-align: middle;\n",
       "    }\n",
       "\n",
       "    .dataframe tbody tr th {\n",
       "        vertical-align: top;\n",
       "    }\n",
       "\n",
       "    .dataframe thead th {\n",
       "        text-align: right;\n",
       "    }\n",
       "</style>\n",
       "<table border=\"1\" class=\"dataframe\">\n",
       "  <thead>\n",
       "    <tr style=\"text-align: right;\">\n",
       "      <th></th>\n",
       "      <th>coupon</th>\n",
       "      <th>ISIN</th>\n",
       "      <th>issue date</th>\n",
       "      <th>maturity date</th>\n",
       "      <th>first</th>\n",
       "      <th>second</th>\n",
       "      <th>third</th>\n",
       "      <th>fourth</th>\n",
       "      <th>fifth</th>\n",
       "      <th>sixth</th>\n",
       "      <th>seventh</th>\n",
       "      <th>eighth</th>\n",
       "      <th>ninth</th>\n",
       "      <th>tenth</th>\n",
       "    </tr>\n",
       "  </thead>\n",
       "  <tbody>\n",
       "    <tr>\n",
       "      <th>0</th>\n",
       "      <td>0.0150</td>\n",
       "      <td>CA135087D929</td>\n",
       "      <td>2014/10/14</td>\n",
       "      <td>2020/3/1</td>\n",
       "      <td>99.85</td>\n",
       "      <td>99.86</td>\n",
       "      <td>99.86</td>\n",
       "      <td>99.86</td>\n",
       "      <td>99.86</td>\n",
       "      <td>99.86</td>\n",
       "      <td>99.86</td>\n",
       "      <td>99.86</td>\n",
       "      <td>99.86</td>\n",
       "      <td>99.86</td>\n",
       "    </tr>\n",
       "    <tr>\n",
       "      <th>1</th>\n",
       "      <td>0.0075</td>\n",
       "      <td>CA135087E596</td>\n",
       "      <td>2015/4/13</td>\n",
       "      <td>2020/9/1</td>\n",
       "      <td>99.26</td>\n",
       "      <td>99.28</td>\n",
       "      <td>99.28</td>\n",
       "      <td>99.27</td>\n",
       "      <td>99.28</td>\n",
       "      <td>99.28</td>\n",
       "      <td>99.28</td>\n",
       "      <td>99.27</td>\n",
       "      <td>99.28</td>\n",
       "      <td>99.30</td>\n",
       "    </tr>\n",
       "    <tr>\n",
       "      <th>2</th>\n",
       "      <td>0.0075</td>\n",
       "      <td>CA135087F254</td>\n",
       "      <td>2015/10/19</td>\n",
       "      <td>2021/3/1</td>\n",
       "      <td>98.89</td>\n",
       "      <td>98.93</td>\n",
       "      <td>98.95</td>\n",
       "      <td>98.94</td>\n",
       "      <td>98.92</td>\n",
       "      <td>98.92</td>\n",
       "      <td>98.88</td>\n",
       "      <td>98.90</td>\n",
       "      <td>98.90</td>\n",
       "      <td>98.93</td>\n",
       "    </tr>\n",
       "    <tr>\n",
       "      <th>3</th>\n",
       "      <td>0.0075</td>\n",
       "      <td>CA135087F585</td>\n",
       "      <td>2016/4/11</td>\n",
       "      <td>2021/9/1</td>\n",
       "      <td>98.41</td>\n",
       "      <td>98.45</td>\n",
       "      <td>98.49</td>\n",
       "      <td>98.46</td>\n",
       "      <td>98.46</td>\n",
       "      <td>98.43</td>\n",
       "      <td>98.43</td>\n",
       "      <td>98.38</td>\n",
       "      <td>98.41</td>\n",
       "      <td>98.42</td>\n",
       "    </tr>\n",
       "    <tr>\n",
       "      <th>4</th>\n",
       "      <td>0.0050</td>\n",
       "      <td>CA135087G328</td>\n",
       "      <td>2016/10/11</td>\n",
       "      <td>2022/3/1</td>\n",
       "      <td>97.57</td>\n",
       "      <td>97.63</td>\n",
       "      <td>97.66</td>\n",
       "      <td>97.65</td>\n",
       "      <td>97.64</td>\n",
       "      <td>97.60</td>\n",
       "      <td>97.61</td>\n",
       "      <td>97.57</td>\n",
       "      <td>97.58</td>\n",
       "      <td>97.61</td>\n",
       "    </tr>\n",
       "    <tr>\n",
       "      <th>5</th>\n",
       "      <td>0.0275</td>\n",
       "      <td>CA135087ZU15</td>\n",
       "      <td>2011/8/2</td>\n",
       "      <td>2022/6/1</td>\n",
       "      <td>102.53</td>\n",
       "      <td>102.59</td>\n",
       "      <td>102.62</td>\n",
       "      <td>102.59</td>\n",
       "      <td>102.58</td>\n",
       "      <td>102.52</td>\n",
       "      <td>102.52</td>\n",
       "      <td>102.46</td>\n",
       "      <td>102.47</td>\n",
       "      <td>102.51</td>\n",
       "    </tr>\n",
       "    <tr>\n",
       "      <th>6</th>\n",
       "      <td>0.0175</td>\n",
       "      <td>CA135087H490</td>\n",
       "      <td>2017/10/6</td>\n",
       "      <td>2023/3/1</td>\n",
       "      <td>100.31</td>\n",
       "      <td>100.42</td>\n",
       "      <td>100.48</td>\n",
       "      <td>100.45</td>\n",
       "      <td>100.44</td>\n",
       "      <td>100.35</td>\n",
       "      <td>100.31</td>\n",
       "      <td>100.27</td>\n",
       "      <td>100.31</td>\n",
       "      <td>100.38</td>\n",
       "    </tr>\n",
       "    <tr>\n",
       "      <th>7</th>\n",
       "      <td>0.0150</td>\n",
       "      <td>CA135087A610</td>\n",
       "      <td>2012/7/30</td>\n",
       "      <td>2023/6/1</td>\n",
       "      <td>99.48</td>\n",
       "      <td>99.59</td>\n",
       "      <td>99.65</td>\n",
       "      <td>99.61</td>\n",
       "      <td>99.62</td>\n",
       "      <td>99.54</td>\n",
       "      <td>99.53</td>\n",
       "      <td>99.44</td>\n",
       "      <td>99.49</td>\n",
       "      <td>99.56</td>\n",
       "    </tr>\n",
       "    <tr>\n",
       "      <th>8</th>\n",
       "      <td>0.0225</td>\n",
       "      <td>CA135087J546</td>\n",
       "      <td>2018/10/5</td>\n",
       "      <td>2024/3/1</td>\n",
       "      <td>102.52</td>\n",
       "      <td>102.65</td>\n",
       "      <td>102.75</td>\n",
       "      <td>102.58</td>\n",
       "      <td>102.68</td>\n",
       "      <td>102.53</td>\n",
       "      <td>102.47</td>\n",
       "      <td>102.46</td>\n",
       "      <td>102.54</td>\n",
       "      <td>102.64</td>\n",
       "    </tr>\n",
       "    <tr>\n",
       "      <th>9</th>\n",
       "      <td>0.0150</td>\n",
       "      <td>CA135087J967</td>\n",
       "      <td>2019/4/5</td>\n",
       "      <td>2024/9/1</td>\n",
       "      <td>98.72</td>\n",
       "      <td>98.95</td>\n",
       "      <td>99.29</td>\n",
       "      <td>99.11</td>\n",
       "      <td>99.25</td>\n",
       "      <td>98.99</td>\n",
       "      <td>99.03</td>\n",
       "      <td>99.06</td>\n",
       "      <td>98.99</td>\n",
       "      <td>99.10</td>\n",
       "    </tr>\n",
       "    <tr>\n",
       "      <th>10</th>\n",
       "      <td>0.0125</td>\n",
       "      <td>CA135087K528</td>\n",
       "      <td>2019/10/11</td>\n",
       "      <td>2025/3/1</td>\n",
       "      <td>98.24</td>\n",
       "      <td>98.43</td>\n",
       "      <td>98.58</td>\n",
       "      <td>98.48</td>\n",
       "      <td>98.48</td>\n",
       "      <td>98.30</td>\n",
       "      <td>98.25</td>\n",
       "      <td>98.24</td>\n",
       "      <td>98.34</td>\n",
       "      <td>98.47</td>\n",
       "    </tr>\n",
       "  </tbody>\n",
       "</table>\n",
       "</div>"
      ],
      "text/plain": [
       "    coupon          ISIN  issue date maturity date   first  second   third  \\\n",
       "0   0.0150  CA135087D929  2014/10/14      2020/3/1   99.85   99.86   99.86   \n",
       "1   0.0075  CA135087E596   2015/4/13      2020/9/1   99.26   99.28   99.28   \n",
       "2   0.0075  CA135087F254  2015/10/19      2021/3/1   98.89   98.93   98.95   \n",
       "3   0.0075  CA135087F585   2016/4/11      2021/9/1   98.41   98.45   98.49   \n",
       "4   0.0050  CA135087G328  2016/10/11      2022/3/1   97.57   97.63   97.66   \n",
       "5   0.0275  CA135087ZU15    2011/8/2      2022/6/1  102.53  102.59  102.62   \n",
       "6   0.0175  CA135087H490   2017/10/6      2023/3/1  100.31  100.42  100.48   \n",
       "7   0.0150  CA135087A610   2012/7/30      2023/6/1   99.48   99.59   99.65   \n",
       "8   0.0225  CA135087J546   2018/10/5      2024/3/1  102.52  102.65  102.75   \n",
       "9   0.0150  CA135087J967    2019/4/5      2024/9/1   98.72   98.95   99.29   \n",
       "10  0.0125  CA135087K528  2019/10/11      2025/3/1   98.24   98.43   98.58   \n",
       "\n",
       "    fourth   fifth   sixth  seventh  eighth   ninth   tenth  \n",
       "0    99.86   99.86   99.86    99.86   99.86   99.86   99.86  \n",
       "1    99.27   99.28   99.28    99.28   99.27   99.28   99.30  \n",
       "2    98.94   98.92   98.92    98.88   98.90   98.90   98.93  \n",
       "3    98.46   98.46   98.43    98.43   98.38   98.41   98.42  \n",
       "4    97.65   97.64   97.60    97.61   97.57   97.58   97.61  \n",
       "5   102.59  102.58  102.52   102.52  102.46  102.47  102.51  \n",
       "6   100.45  100.44  100.35   100.31  100.27  100.31  100.38  \n",
       "7    99.61   99.62   99.54    99.53   99.44   99.49   99.56  \n",
       "8   102.58  102.68  102.53   102.47  102.46  102.54  102.64  \n",
       "9    99.11   99.25   98.99    99.03   99.06   98.99   99.10  \n",
       "10   98.48   98.48   98.30    98.25   98.24   98.34   98.47  "
      ]
     },
     "execution_count": 2,
     "metadata": {},
     "output_type": "execute_result"
    }
   ],
   "source": [
    "df = pd.read_csv('C://Users//khrf7//Desktop//466_10_bonds.csv',encoding = 'latin-1')\n",
    "df"
   ]
  },
  {
   "cell_type": "code",
   "execution_count": 3,
   "metadata": {},
   "outputs": [],
   "source": [
    "# a helper function to calculate the yield \n",
    "def calculate_yield(clean_price, coupon, today, maturity_date):\n",
    "    today_time = datetime.strptime(today,\"%Y/%m/%d\")\n",
    "    maturity_time = datetime.strptime(maturity_date,\"%Y/%m/%d\")\n",
    "    difference = (maturity_time - today_time).days\n",
    "    a,b = int(difference/182), difference %182\n",
    "    initial = b/365\n",
    "    last_payment = today_time + relativedelta(days=+b) - relativedelta(months=+6)\n",
    "    dirty_price = clean_price + (today_time - last_payment).days/365 * coupon *100\n",
    "    times = np.asarray([2* initial + n for n in range(0,a+1)])\n",
    "    payments = np.asarray([coupon /2 * 100] * a + [coupon /2 * 100 + 100])\n",
    "    F = lambda x: np.dot(payments, (1+x/2)**(-times)) - dirty_price\n",
    "    return scipy.optimize.newton(F,0.02),dirty_price"
   ]
  },
  {
   "cell_type": "code",
   "execution_count": 4,
   "metadata": {},
   "outputs": [
    {
     "data": {
      "image/png": "[encoded data removed]",
      "text/plain": [
       "<Figure size 432x288 with 1 Axes>"
      ]
     },
     "metadata": {
      "needs_background": "light"
     },
     "output_type": "display_data"
    }
   ],
   "source": [
    "dates = ['2020/01/02','2020/01/03','2020/01/06','2020/01/07','2020/01/08','2020/01/09','2020/01/10',\n",
    "         '2020/01/13','2020/01/14','2020/01/15']\n",
    "yields = np.empty([10,11])\n",
    "dirty_prices = np.empty([10,11])\n",
    "for i in range(0,10):\n",
    "    for j in range(0,11):\n",
    "        combination = calculate_yield(float(df.iloc[j,i+4]), float(df.iloc[j,0]),dates[i],df.iloc[j,3])\n",
    "        yields[i][j], dirty_prices[i][j] = combination[0],combination[1]\n",
    "for i in range(0,10):\n",
    "    maturities = []\n",
    "    for j in range(0,11):\n",
    "        maturities.append((datetime.strptime(df.iloc[j,3],\"%Y/%m/%d\")- datetime.strptime(dates[i],\"%Y/%m/%d\")).days/365)\n",
    "    plt.plot(maturities, yields[i], label = dates[i])\n",
    "plt.xticks(np.arange(0,6))\n",
    "plt.xlabel('maturity')\n",
    "plt.ylabel('yield')\n",
    "plt.legend()\n",
    "plt.show()"
   ]
  },
  {
   "cell_type": "code",
   "execution_count": 5,
   "metadata": {},
   "outputs": [
    {
     "data": {
      "text/plain": [
       "array([[0.02442053, 0.01872334, 0.01717532, 0.01720413, 0.01646246,\n",
       "        0.01676537, 0.01649739, 0.01656193, 0.01623828, 0.01786556,\n",
       "        0.01605813],\n",
       "       [0.02394867, 0.01846351, 0.01684621, 0.01697313, 0.0161894 ,\n",
       "        0.01650316, 0.0161396 , 0.01623011, 0.01591576, 0.01734947,\n",
       "        0.01567251],\n",
       "       [0.02443793, 0.01860099, 0.01673561, 0.01677194, 0.01608773,\n",
       "        0.01634116, 0.01594122, 0.01605102, 0.0156582 , 0.01658937,\n",
       "        0.01537165],\n",
       "       [0.02461315, 0.01880323, 0.01684635, 0.01697353, 0.01614994,\n",
       "        0.01645449, 0.01603749, 0.01617315, 0.01607126, 0.01699469,\n",
       "        0.01557703],\n",
       "       [0.02479501, 0.01869458, 0.01704665, 0.01698918, 0.01621232,\n",
       "        0.0164842 , 0.01606884, 0.01614367, 0.0158215 , 0.01668105,\n",
       "        0.01557862],\n",
       "       [0.02498389, 0.01874198, 0.01706947, 0.01719187, 0.01641971,\n",
       "        0.01672405, 0.0163611 , 0.01638774, 0.01618628, 0.01726735,\n",
       "        0.01594818],\n",
       "       [0.02518021, 0.01878978, 0.01745028, 0.01720794, 0.01638592,\n",
       "        0.01671208, 0.01649079, 0.01641924, 0.01633018, 0.01717843,\n",
       "        0.01605237],\n",
       "       [0.02581846, 0.01909535, 0.01734209, 0.01757036, 0.01662381,\n",
       "        0.01692939, 0.01661933, 0.01669726, 0.01634329, 0.01711445,\n",
       "        0.01607842],\n",
       "       [0.02604939, 0.01898515, 0.01736591, 0.01739851, 0.01659009,\n",
       "        0.01687532, 0.01648747, 0.01654577, 0.01614181, 0.01727388,\n",
       "        0.01587509],\n",
       "       [0.02629041, 0.01871302, 0.01711824, 0.01735209, 0.01645896,\n",
       "        0.01669419, 0.01625711, 0.01633302, 0.01589089, 0.01702649,\n",
       "        0.0156103 ]])"
      ]
     },
     "execution_count": 5,
     "metadata": {},
     "output_type": "execute_result"
    }
   ],
   "source": [
    "yields"
   ]
  },
  {
   "cell_type": "code",
   "execution_count": 6,
   "metadata": {},
   "outputs": [
    {
     "data": {
      "image/png": "[encoded data removed]",
      "text/plain": [
       "<Figure size 432x288 with 1 Axes>"
      ]
     },
     "metadata": {
      "needs_background": "light"
     },
     "output_type": "display_data"
    }
   ],
   "source": [
    "maturities = np.empty([10,11])\n",
    "spot_rates = np.empty([10,11])\n",
    "for i in range(0,10):\n",
    "    for j in range(0,11):\n",
    "        maturities[i][j] = (datetime.strptime(df.iloc[j,3],\"%Y/%m/%d\") - datetime.strptime(dates[i],\"%Y/%m/%d\")).days/365\n",
    "        if j == 0:\n",
    "            spot_rates[i][j] = -np.log(dirty_prices[i][j]/(100+ 100*float(df.iloc[j,0])/2)) /(maturities[i][j])\n",
    "        else:\n",
    "            if j!= 5 and j != 7:\n",
    "                payments = np.asarray([100 *float(df.iloc[j,0])/2] * j + [100 + 100*float(df.iloc[j,0])/2])\n",
    "            else:\n",
    "                payments = np.asarray([100 *float(df.iloc[j,0])/2] * (j-1) + [100 + 100*float(df.iloc[j,0])/2])\n",
    "            if j >= 1 and j <= 4:\n",
    "                rate = spot_rates[i,0:j]\n",
    "                time = maturities[i,0:j]\n",
    "            elif j == 5:\n",
    "                rate = np.asarray([(spot_rates[i][n] + spot_rates[i][n+1])/2 for n in range(0,4)])\n",
    "                time = np.asarray([maturities[i][n] + 1/4 for n in range(0,4)])\n",
    "            elif j == 6:\n",
    "                rate = np.asarray([spot_rates[i][n] for n in range(0,5)] + [2* spot_rates[i][5] - spot_rates[i][4]])\n",
    "                time = np.asarray([maturities[i][n] for n in range(0,5)] + [maturities[i][5] + 1/4])\n",
    "            elif j == 7:\n",
    "                rate = np.asarray([(spot_rates[i][n] + spot_rates[i][n+1])/2 for n in range(0,4)] + [spot_rates[i][5]] +\\\n",
    "                       [3*spot_rates[i][5] - 2*spot_rates[i][4]])\n",
    "                time = np.asarray([maturities[i][n] + 1/4 for n in range(0,5)] +[maturities[i][5] + 1/2])\n",
    "            elif j == 8:\n",
    "                rate = np.asarray([spot_rates[i][n] for n in range(0,5)] + [2* spot_rates[i][5] - spot_rates[i][4]] +\\\n",
    "                                 [spot_rates[i][6]] +[2* spot_rates[i][7] - spot_rates[i][6]])\n",
    "                time = np.asarray([maturities[i][n] for n in range(0,5)] +[maturities[i][5] +1/4] + [maturities[i][6]] +\\\n",
    "                                 [maturities[i][7] +1/4])\n",
    "            elif j == 9:\n",
    "                rate = np.asarray([spot_rates[i][n] for n in range(0,5)] + [2* spot_rates[i][5] - spot_rates[i][4]] +\\\n",
    "                                 [spot_rates[i][6]] +[2* spot_rates[i][7] - spot_rates[i][6]] + [spot_rates[i][8]])\n",
    "                time = np.asarray([maturities[i][n] for n in range(0,5)] +[maturities[i][5] +1/4] + [maturities[i][6]] +\\\n",
    "                                 [maturities[i][7] +1/4] +[maturities[i][8]])\n",
    "            else:\n",
    "                rate = np.asarray([spot_rates[i][n] for n in range(0,5)] + [2* spot_rates[i][5] - spot_rates[i][4]] +\\\n",
    "                                 [spot_rates[i][6]] +[2* spot_rates[i][7] - spot_rates[i][6]] + [spot_rates[i][8]] +\\\n",
    "                                 [spot_rates[i][9]])\n",
    "                time = np.asarray([maturities[i][n] for n in range(0,5)] +[maturities[i][5] +1/4] + [maturities[i][6]] +\\\n",
    "                                 [maturities[i][7] +1/4] +[maturities[i][8],maturities[i][9]])\n",
    "            f = lambda x: np.dot(payments[0:-1], np.exp(-(np.multiply(rate,time)))) +\\\n",
    "                payments[-1] * np.exp(-x* maturities[i][j]) - dirty_prices[i][j]\n",
    "            spot_rates[i][j] = scipy.optimize.newton(f,0.02)\n",
    "    plt.plot(maturities[i],spot_rates[i],label = dates[i])\n",
    "plt.xticks(np.arange(0,6))\n",
    "plt.xlabel('maturities')\n",
    "plt.ylabel('spot rate')\n",
    "plt.legend()\n",
    "plt.show()"
   ]
  },
  {
   "cell_type": "code",
   "execution_count": 7,
   "metadata": {},
   "outputs": [
    {
     "data": {
      "image/png": "[encoded data removed]",
      "text/plain": [
       "<Figure size 432x288 with 1 Axes>"
      ]
     },
     "metadata": {
      "needs_background": "light"
     },
     "output_type": "display_data"
    }
   ],
   "source": [
    "forward_rates = np.empty([10,4])\n",
    "r = np.empty([10,5])\n",
    "for i in range(0,10):\n",
    "    for j in range(0,5):\n",
    "        x = maturities[i, (2*j+1):(2*j+3)]\n",
    "        y = spot_rates[i, (2*j+1):(2*j+3)]\n",
    "        z = np.polyfit(x,y,1)\n",
    "        r[i][j] = np.polyval(z,j+1)\n",
    "for i in range(0,10):\n",
    "    for j in range(0,4):\n",
    "        forward_rates[i][j] = ((1 + r[i][j+1])**(j+2)/(1 + r[i][0]))** (1/(j+1)) -1\n",
    "    plt.plot([1,2,3,4], forward_rates[i], label = dates[i])\n",
    "plt.xlabel('time')\n",
    "plt.ylabel('forward rates')\n",
    "plt.xticks(ticks = [1,2,3,4],labels = ['1yr-1yr','1yr-2yr','1yr-3yr','1yr-4yr'])\n",
    "plt.legend(loc='center left', bbox_to_anchor=(1, 0.5))\n",
    "plt.show()"
   ]
  },
  {
   "cell_type": "code",
   "execution_count": 8,
   "metadata": {},
   "outputs": [
    {
     "data": {
      "text/plain": [
       "array([[0.02427265, 0.01867001, 0.01713523, 0.01716861, 0.01643109,\n",
       "        0.01671291, 0.01645638, 0.01651814, 0.01618948, 0.01787129,\n",
       "        0.01601052],\n",
       "       [0.02380642, 0.01841244, 0.0168082 , 0.0169395 , 0.01615966,\n",
       "        0.01645281, 0.01609856, 0.01618677, 0.01586767, 0.01735146,\n",
       "        0.01562571],\n",
       "       [0.02428983, 0.01854933, 0.01669791, 0.01673886, 0.01605871,\n",
       "        0.01628996, 0.01590002, 0.01600847, 0.01560741, 0.01657718,\n",
       "        0.01532623],\n",
       "       [0.02446293, 0.01875039, 0.01680793, 0.01693963, 0.0161202 ,\n",
       "        0.01640182, 0.01599486, 0.01612919, 0.01603009, 0.01698702,\n",
       "        0.01552976],\n",
       "       [0.02464257, 0.01864252, 0.01700784, 0.01695496, 0.01618234,\n",
       "        0.01643066, 0.01602597, 0.01609877, 0.01577111, 0.0166668 ,\n",
       "        0.01553445],\n",
       "       [0.02482913, 0.0186897 , 0.01703056, 0.01715727, 0.01638904,\n",
       "        0.01667193, 0.01631916, 0.01634222, 0.01614041, 0.01726067,\n",
       "        0.01590388],\n",
       "       [0.02502302, 0.01873729, 0.01740998, 0.01717231, 0.01635477,\n",
       "        0.016657  , 0.01644999, 0.01637311, 0.01628791, 0.01716748,\n",
       "        0.01600966],\n",
       "       [0.02565323, 0.01904116, 0.01730177, 0.01753412, 0.0165917 ,\n",
       "        0.01687326, 0.01657621, 0.01665129, 0.01629164, 0.01709584,\n",
       "        0.01603228],\n",
       "       [0.02588121, 0.01893177, 0.01732581, 0.01736274, 0.01655847,\n",
       "        0.01682003, 0.01644372, 0.01649903, 0.01608744, 0.01726349,\n",
       "        0.01582619],\n",
       "       [0.02611911, 0.01866147, 0.01707968, 0.01731749, 0.01642821,\n",
       "        0.01663889, 0.01621329, 0.01628706, 0.01583534, 0.01701612,\n",
       "        0.01556124]])"
      ]
     },
     "execution_count": 8,
     "metadata": {},
     "output_type": "execute_result"
    }
   ],
   "source": [
    "spot_rates"
   ]
  },
  {
   "cell_type": "code",
   "execution_count": 9,
   "metadata": {},
   "outputs": [
    {
     "data": {
      "text/plain": [
       "array([[0.0157084 , 0.01595044, 0.01580385, 0.01637546],\n",
       "       [0.01549766, 0.01560008, 0.01547484, 0.01590494],\n",
       "       [0.01527124, 0.01533823, 0.01516621, 0.01532682],\n",
       "       [0.01534292, 0.01541995, 0.01560455, 0.01561916],\n",
       "       [0.01533179, 0.01541425, 0.01528601, 0.01546912],\n",
       "       [0.01571306, 0.01582638, 0.01573724, 0.01599988],\n",
       "       [0.0153877 , 0.01584163, 0.01581126, 0.0159822 ],\n",
       "       [0.01592104, 0.01606161, 0.01588737, 0.01595981],\n",
       "       [0.01579273, 0.01589191, 0.01563232, 0.01582385],\n",
       "       [0.01582742, 0.0156872 , 0.01539041, 0.01555373]])"
      ]
     },
     "execution_count": 9,
     "metadata": {},
     "output_type": "execute_result"
    }
   ],
   "source": [
    "forward_rates"
   ]
  },
  {
   "cell_type": "code",
   "execution_count": 10,
   "metadata": {},
   "outputs": [],
   "source": [
    "yield_matrix = np.empty([10,5])\n",
    "for i in range(0,10):\n",
    "    for j in range(0,5):\n",
    "        x = maturities[i, (2*j+1):(2*j+3)]\n",
    "        y = yields[i, (2*j+1):(2*j+3)]\n",
    "        z = np.polyfit(x,y,1)\n",
    "        yield_matrix[i][j] = np.polyval(z,j+1)\n",
    "X = np.empty([5,9])\n",
    "for i in range(0,5):\n",
    "    a = yield_matrix[1:10,i] \n",
    "    b = yield_matrix[0:9,i]\n",
    "    X[i,:] = np.log(a / b)\n",
    "log_return_covariance = np.cov(X)\n",
    "forward_covariance = np.cov(forward_rates.T)"
   ]
  },
  {
   "cell_type": "code",
   "execution_count": 11,
   "metadata": {},
   "outputs": [
    {
     "data": {
      "text/plain": [
       "array([[1.10832346e-04, 5.72306569e-05, 9.69163048e-05, 1.08397304e-04,\n",
       "        1.19596891e-04],\n",
       "       [5.72306569e-05, 1.03644186e-04, 1.16682227e-04, 1.27081895e-04,\n",
       "        1.51295888e-04],\n",
       "       [9.69163048e-05, 1.16682227e-04, 1.54721660e-04, 1.77403730e-04,\n",
       "        2.08917884e-04],\n",
       "       [1.08397304e-04, 1.27081895e-04, 1.77403730e-04, 2.68573515e-04,\n",
       "        2.81414707e-04],\n",
       "       [1.19596891e-04, 1.51295888e-04, 2.08917884e-04, 2.81414707e-04,\n",
       "        3.40667751e-04]])"
      ]
     },
     "execution_count": 11,
     "metadata": {},
     "output_type": "execute_result"
    }
   ],
   "source": [
    "log_return_covariance"
   ]
  },
  {
   "cell_type": "code",
   "execution_count": 12,
   "metadata": {},
   "outputs": [
    {
     "data": {
      "text/plain": [
       "array([[5.70965786e-08, 4.88864736e-08, 3.08673862e-08, 3.62839710e-08],\n",
       "       [4.88864736e-08, 6.30381988e-08, 5.21841629e-08, 6.29494114e-08],\n",
       "       [3.08673862e-08, 5.21841629e-08, 5.89758244e-08, 6.41162965e-08],\n",
       "       [3.62839710e-08, 6.29494114e-08, 6.41162965e-08, 9.64594354e-08]])"
      ]
     },
     "execution_count": 12,
     "metadata": {},
     "output_type": "execute_result"
    }
   ],
   "source": [
    "forward_covariance"
   ]
  },
  {
   "cell_type": "code",
   "execution_count": 13,
   "metadata": {},
   "outputs": [
    {
     "data": {
      "text/plain": [
       "(array([8.48617389e-04, 6.41662387e-05, 4.33060806e-05, 2.92760812e-06,\n",
       "        1.94221422e-05]),\n",
       " array([[ 0.25697219,  0.90093295,  0.23824289,  0.24855216,  0.06121491],\n",
       "        [ 0.30180924, -0.01648586, -0.7461073 ,  0.52901724, -0.268522  ],\n",
       "        [ 0.41089448,  0.20760075, -0.39722824, -0.79382245, -0.01110376],\n",
       "        [ 0.53989384, -0.23015102,  0.46133029, -0.00227438, -0.66536782],\n",
       "        [ 0.6185118 , -0.30328284,  0.12628665,  0.16793844,  0.69376584]]))"
      ]
     },
     "execution_count": 13,
     "metadata": {},
     "output_type": "execute_result"
    }
   ],
   "source": [
    "w1,v1 = np.linalg.eig(log_return_covariance)\n",
    "w1,v1"
   ]
  },
  {
   "cell_type": "code",
   "execution_count": 14,
   "metadata": {},
   "outputs": [
    {
     "data": {
      "text/plain": [
       "(array([2.21871403e-07, 3.96398139e-08, 3.08017261e-09, 1.09786475e-08]),\n",
       " array([[ 0.37518619,  0.79077557,  0.43446179,  0.21249064],\n",
       "        [ 0.5128161 ,  0.2447851 , -0.80500474, -0.17049127],\n",
       "        [ 0.47500049, -0.23733206,  0.38977664, -0.75241092],\n",
       "        [ 0.60879348, -0.50835789,  0.10622852,  0.59971514]]))"
      ]
     },
     "execution_count": 14,
     "metadata": {},
     "output_type": "execute_result"
    }
   ],
   "source": [
    "w2,v2 = np.linalg.eig(forward_covariance)\n",
    "w2,v2"
   ]
  },
  {
   "cell_type": "code",
   "execution_count": null,
   "metadata": {},
   "outputs": [],
   "source": []
  },
  {
   "cell_type": "code",
   "execution_count": null,
   "metadata": {},
   "outputs": [],
   "source": []
  },
  {
   "cell_type": "code",
   "execution_count": null,
   "metadata": {},
   "outputs": [],
   "source": []
  }
 ],
 "metadata": {
  "kernelspec": {
   "display_name": "Python 3",
   "language": "python",
   "name": "python3"
  },
  "language_info": {
   "codemirror_mode": {
    "name": "ipython",
    "version": 3
   },
   "file_extension": ".py",
   "mimetype": "text/x-python",
   "name": "python",
   "nbconvert_exporter": "python",
   "pygments_lexer": "ipython3",
   "version": "3.7.3"
  }
 },
 "nbformat": 4,
 "nbformat_minor": 2
}
